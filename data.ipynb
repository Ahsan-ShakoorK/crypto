{
 "cells": [
  {
   "cell_type": "code",
   "execution_count": 26,
   "metadata": {},
   "outputs": [
    {
     "name": "stdout",
     "output_type": "stream",
     "text": [
      "Error deleting old data for akro: (1205, 'Lock wait timeout exceeded; try restarting transaction')\n",
      "Error deleting old data for ach: (1205, 'Lock wait timeout exceeded; try restarting transaction')\n",
      "Error deleting old data for blz: (1205, 'Lock wait timeout exceeded; try restarting transaction')\n",
      "Error deleting old data for perl: (1205, 'Lock wait timeout exceeded; try restarting transaction')\n",
      "Error deleting old data for xrp: (1205, 'Lock wait timeout exceeded; try restarting transaction')\n",
      "Error deleting old data for zil: (1205, 'Lock wait timeout exceeded; try restarting transaction')\n",
      "Error deleting old data for sxp: (1205, 'Lock wait timeout exceeded; try restarting transaction')\n",
      "Error deleting old data for gmt: (1205, 'Lock wait timeout exceeded; try restarting transaction')\n",
      "Error deleting old data for joe: (1205, 'Lock wait timeout exceeded; try restarting transaction')\n",
      "Error deleting old data for chess: (1205, 'Lock wait timeout exceeded; try restarting transaction')\n"
     ]
    },
    {
     "ename": "KeyboardInterrupt",
     "evalue": "",
     "output_type": "error",
     "traceback": [
      "\u001b[1;31m---------------------------------------------------------------------------\u001b[0m",
      "\u001b[1;31mKeyboardInterrupt\u001b[0m                         Traceback (most recent call last)",
      "\u001b[1;32mc:\\Users\\Ask78\\OneDrive\\Desktop\\crypto\\data.ipynb Cell 1\u001b[0m in \u001b[0;36m<cell line: 80>\u001b[1;34m()\u001b[0m\n\u001b[0;32m     <a href='vscode-notebook-cell:/c%3A/Users/Ask78/OneDrive/Desktop/crypto/data.ipynb#X33sZmlsZQ%3D%3D?line=77'>78</a>\u001b[0m     threading\u001b[39m.\u001b[39mThread(target\u001b[39m=\u001b[39mdelete_old_data, args\u001b[39m=\u001b[39m(coin,))\u001b[39m.\u001b[39mstart()\n\u001b[0;32m     <a href='vscode-notebook-cell:/c%3A/Users/Ask78/OneDrive/Desktop/crypto/data.ipynb#X33sZmlsZQ%3D%3D?line=78'>79</a>\u001b[0m \u001b[39mwhile\u001b[39;00m \u001b[39mTrue\u001b[39;00m:\n\u001b[1;32m---> <a href='vscode-notebook-cell:/c%3A/Users/Ask78/OneDrive/Desktop/crypto/data.ipynb#X33sZmlsZQ%3D%3D?line=79'>80</a>\u001b[0m     time\u001b[39m.\u001b[39;49msleep(\u001b[39m2\u001b[39;49m)\n",
      "\u001b[1;31mKeyboardInterrupt\u001b[0m: "
     ]
    }
   ],
   "source": [
    "import schedule\n",
    "import time\n",
    "from binance.client import Client\n",
    "import pymysql.cursors\n",
    "import pandas as pd\n",
    "import threading\n",
    "\n",
    "# Initialize the Binance API client\n",
    "api_key = 'vijG9ARQVjevGky2bkTgFACUMmRJBVxVqwtzDIONOToNIw4YmTMxMgyy4PEVUhFH'\n",
    "api_secret = 'f9BHEpkASNW9S0nd7xe1Iq55ccd0bFrwI8LL0mA0UlIgODhubsX8noG6TnWicvmh'\n",
    "client = Client(api_key, api_secret)\n",
    "\n",
    "# List of coins to fetch data for\n",
    "coins = ['sxp', 'chess', 'blz', 'joe', 'perl', 'ach', 'gmt', 'xrp', 'akro', 'zil']\n",
    "\n",
    "def get_db_connection():\n",
    "    connection = pymysql.connect(\n",
    "    host='twenty.mysql.database.azure.com',\n",
    "    user='ahsan',\n",
    "    password='name@123',\n",
    "    db='ahsandb',\n",
    "    charset='utf8mb4',\n",
    "    cursorclass=pymysql.cursors.DictCursor,\n",
    "    ssl={'ca': 'DigiCertGlobalRootCA.crt.pem'}\n",
    "    )\n",
    "    with connection.cursor() as cursor:\n",
    "        cursor.execute('SET SESSION innodb_lock_wait_timeout = 200;')\n",
    "    return connection\n",
    "# Create tables for each coin\n",
    "connection = get_db_connection()\n",
    "cursor = connection.cursor()\n",
    "for coin in coins:\n",
    "    cursor.execute(f\"\"\"\n",
    "        CREATE TABLE IF NOT EXISTS {coin}usdt (\n",
    "            id INT AUTO_INCREMENT PRIMARY KEY,\n",
    "            timestamp TIMESTAMP DEFAULT CURRENT_TIMESTAMP,\n",
    "            price DECIMAL(18, 8),\n",
    "            volume DECIMAL(18, 8)\n",
    "        )\n",
    "    \"\"\")\n",
    "connection.close()\n",
    "\n",
    "# Function to fetch recent trades and insert them into the MySQL database\n",
    "def fetch_and_store_recent_trades(coin):\n",
    "    while True:\n",
    "        connection = get_db_connection()\n",
    "        cursor = connection.cursor()\n",
    "        try:\n",
    "            trades = client.get_recent_trades(symbol=f'{coin.upper()}USDT')\n",
    "            for trade in trades:\n",
    "                cursor.execute(f\"INSERT INTO {coin}usdt (price, volume) VALUES (%s, %s)\", (trade['price'], trade['qty']))\n",
    "            connection.commit()\n",
    "        except Exception as e:\n",
    "            print(f'Error fetching and storing trades for {coin}: {e}')\n",
    "            connection.rollback()\n",
    "        finally:\n",
    "            connection.close()\n",
    "        time.sleep(3)\n",
    "# Function to delete data older than 1 hour, then older than 5 minutes every 5 minutes\n",
    "def delete_old_data(coin):\n",
    "    time.sleep(3600)  # Wait for 1 hour before starting to delete data\n",
    "    while True:\n",
    "        connection = get_db_connection()\n",
    "        cursor = connection.cursor()\n",
    "        try:\n",
    "            cursor.execute(f\"DELETE FROM {coin}usdt WHERE timestamp < NOW() - INTERVAL 5 MINUTE\")\n",
    "            connection.commit()\n",
    "        except Exception as e:\n",
    "            print(f'Error deleting old data for {coin}: {e}')\n",
    "            connection.rollback()\n",
    "        finally:\n",
    "            connection.close()\n",
    "        time.sleep(300)  # Sleep for 5 minutes\n",
    "\n",
    "# Start the threads\n",
    "for coin in coins:\n",
    "    threading.Thread(target=fetch_and_store_recent_trades, args=(coin,)).start()\n",
    "    threading.Thread(target=delete_old_data, args=(coin,)).start()\n",
    "while True:\n",
    "    time.sleep(2)\n",
    "\n"
   ]
  },
  {
   "cell_type": "code",
   "execution_count": null,
   "metadata": {},
   "outputs": [],
   "source": [
    "\n"
   ]
  }
 ],
 "metadata": {
  "kernelspec": {
   "display_name": "bapi",
   "language": "python",
   "name": "python3"
  },
  "language_info": {
   "codemirror_mode": {
    "name": "ipython",
    "version": 3
   },
   "file_extension": ".py",
   "mimetype": "text/x-python",
   "name": "python",
   "nbconvert_exporter": "python",
   "pygments_lexer": "ipython3",
   "version": "3.8.16"
  },
  "orig_nbformat": 4
 },
 "nbformat": 4,
 "nbformat_minor": 2
}
